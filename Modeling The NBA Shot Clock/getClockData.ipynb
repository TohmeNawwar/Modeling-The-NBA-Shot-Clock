{
 "cells": [
  {
   "cell_type": "code",
   "execution_count": 1,
   "id": "b7beab66",
   "metadata": {},
   "outputs": [],
   "source": [
    "import requests\n",
    "import time\n",
    "import pandas as pd\n",
    "import winsound\n",
    "import matplotlib.pyplot as plt\n",
    "from nba_api.stats.endpoints import teamdashptshots, teaminfocommon\n",
    "from nba_api.stats.library import data"
   ]
  },
  {
   "cell_type": "code",
   "execution_count": 2,
   "id": "de7b4df6",
   "metadata": {},
   "outputs": [],
   "source": [
    "team_ids = []\n",
    "for team in data.teams:\n",
    "    team_ids.append(team[0])\n",
    "seasons = ['2018-19', '2019-20', '2020-21', '2021-22']"
   ]
  },
  {
   "cell_type": "code",
   "execution_count": 3,
   "id": "d5e91719",
   "metadata": {},
   "outputs": [],
   "source": [
    "FG2M = 11\n",
    "FG2A = 12\n",
    "FG3M = 15\n",
    "FG3A = 16"
   ]
  },
  {
   "cell_type": "code",
   "execution_count": 4,
   "id": "8b2dc5ee",
   "metadata": {},
   "outputs": [],
   "source": [
    "clockRangesFG2A =\\\n",
    "    {'24-22':0, '22-18 Very Early':0, '18-15 Early':0, '15-7 Average':0, '7-4 Late':0, '4-0 Very Late':0}\n",
    "clockRangesFG2M =\\\n",
    "    {'24-22':0, '22-18 Very Early':0, '18-15 Early':0, '15-7 Average':0, '7-4 Late':0, '4-0 Very Late':0}\n",
    "clockRangesFG3A = \\\n",
    "    {'24-22':0, '22-18 Very Early':0, '18-15 Early':0, '15-7 Average':0, '7-4 Late':0, '4-0 Very Late':0}\n",
    "clockRangesFG3M = \\\n",
    "    {'24-22':0, '22-18 Very Early':0, '18-15 Early':0, '15-7 Average':0, '7-4 Late':0, '4-0 Very Late':0}\n",
    "for year in seasons:\n",
    "    for team in team_ids:\n",
    "        team_clock = teamdashptshots.TeamDashPtShots(team_id = team, season=year).shot_clock_shooting.get_dict()['data']\n",
    "        for clock_range in team_clock:\n",
    "            clockRangesFG2M[clock_range[4]] +=\\\n",
    "                (clock_range[FG2M]) if (clock_range[FG2M] is not None) else 0\n",
    "            clockRangesFG2A[clock_range[4]] +=\\\n",
    "                (clock_range[FG2A]) if (clock_range[FG2A] is not None) else 0\n",
    "            clockRangesFG3M[clock_range[4]] +=\\\n",
    "                (clock_range[FG3M]) if (clock_range[FG3M] is not None) else 0\n",
    "            clockRangesFG3A[clock_range[4]] +=\\\n",
    "                (clock_range[FG3A]) if (clock_range[FG3A] is not None) else 0\n",
    "        time.sleep(.5)\n",
    "winsound.Beep(1000, 440)"
   ]
  },
  {
   "cell_type": "code",
   "execution_count": 5,
   "id": "9d302b37",
   "metadata": {},
   "outputs": [],
   "source": [
    "FGA = {key: clockRangesFG2A[key] + clockRangesFG3A.get(key)\n",
    "                        for key in clockRangesFG2A.keys()}\n",
    "FGM = {key: clockRangesFG2M[key] + clockRangesFG3M.get(key)\n",
    "                        for key in clockRangesFG2M.keys()}"
   ]
  },
  {
   "cell_type": "code",
   "execution_count": 6,
   "id": "02490f91",
   "metadata": {},
   "outputs": [],
   "source": [
    "FG2P = {key: clockRangesFG2M[key] / clockRangesFG2A.get(key)\n",
    "                        for key in clockRangesFG2M.keys()}\n",
    "FG3P = {key: clockRangesFG3M[key] / clockRangesFG3A.get(key)\n",
    "                        for key in clockRangesFG3M.keys()}\n",
    "EFG = {key: ((clockRangesFG2M[key] + (1.5 * clockRangesFG3M.get(key)))/FGA.get(key))\n",
    "                        for key in clockRangesFG3M.keys()}\n",
    "FG = {key: FGM[key] / FGA.get(key) for key in clockRangesFG3M.keys()}"
   ]
  },
  {
   "cell_type": "code",
   "execution_count": 7,
   "id": "1632038f",
   "metadata": {
    "scrolled": true
   },
   "outputs": [],
   "source": [
    "clockPercentages = {'FG':FG, 'EFG':EFG, '3FG':FG3P, '2FG':FG2P}\n",
    "df = pd.DataFrame.from_dict(clockPercentages)\n",
    "df.to_csv(r'clockPercentages.csv', index=True, header=True)"
   ]
  },
  {
   "cell_type": "code",
   "execution_count": 8,
   "id": "c031b3b0",
   "metadata": {},
   "outputs": [
    {
     "data": {
      "text/html": [
       "<div>\n",
       "<style scoped>\n",
       "    .dataframe tbody tr th:only-of-type {\n",
       "        vertical-align: middle;\n",
       "    }\n",
       "\n",
       "    .dataframe tbody tr th {\n",
       "        vertical-align: top;\n",
       "    }\n",
       "\n",
       "    .dataframe thead th {\n",
       "        text-align: right;\n",
       "    }\n",
       "</style>\n",
       "<table border=\"1\" class=\"dataframe\">\n",
       "  <thead>\n",
       "    <tr style=\"text-align: right;\">\n",
       "      <th></th>\n",
       "      <th>FG</th>\n",
       "      <th>EFG</th>\n",
       "      <th>3FG</th>\n",
       "      <th>2FG</th>\n",
       "    </tr>\n",
       "  </thead>\n",
       "  <tbody>\n",
       "    <tr>\n",
       "      <th>24-22</th>\n",
       "      <td>0.571675</td>\n",
       "      <td>0.580069</td>\n",
       "      <td>0.350515</td>\n",
       "      <td>0.582800</td>\n",
       "    </tr>\n",
       "    <tr>\n",
       "      <th>22-18 Very Early</th>\n",
       "      <td>0.521794</td>\n",
       "      <td>0.597643</td>\n",
       "      <td>0.373524</td>\n",
       "      <td>0.623189</td>\n",
       "    </tr>\n",
       "    <tr>\n",
       "      <th>18-15 Early</th>\n",
       "      <td>0.470212</td>\n",
       "      <td>0.547588</td>\n",
       "      <td>0.374401</td>\n",
       "      <td>0.537714</td>\n",
       "    </tr>\n",
       "    <tr>\n",
       "      <th>15-7 Average</th>\n",
       "      <td>0.460125</td>\n",
       "      <td>0.529801</td>\n",
       "      <td>0.368748</td>\n",
       "      <td>0.515634</td>\n",
       "    </tr>\n",
       "    <tr>\n",
       "      <th>7-4 Late</th>\n",
       "      <td>0.434039</td>\n",
       "      <td>0.499776</td>\n",
       "      <td>0.351049</td>\n",
       "      <td>0.483730</td>\n",
       "    </tr>\n",
       "    <tr>\n",
       "      <th>4-0 Very Late</th>\n",
       "      <td>0.355214</td>\n",
       "      <td>0.413154</td>\n",
       "      <td>0.262431</td>\n",
       "      <td>0.428579</td>\n",
       "    </tr>\n",
       "  </tbody>\n",
       "</table>\n",
       "</div>"
      ],
      "text/plain": [
       "                        FG       EFG       3FG       2FG\n",
       "24-22             0.571675  0.580069  0.350515  0.582800\n",
       "22-18 Very Early  0.521794  0.597643  0.373524  0.623189\n",
       "18-15 Early       0.470212  0.547588  0.374401  0.537714\n",
       "15-7 Average      0.460125  0.529801  0.368748  0.515634\n",
       "7-4 Late          0.434039  0.499776  0.351049  0.483730\n",
       "4-0 Very Late     0.355214  0.413154  0.262431  0.428579"
      ]
     },
     "execution_count": 8,
     "metadata": {},
     "output_type": "execute_result"
    }
   ],
   "source": [
    "df"
   ]
  },
  {
   "cell_type": "code",
   "execution_count": 9,
   "id": "56dab103",
   "metadata": {},
   "outputs": [],
   "source": [
    "plt.rcParams[\"figure.figsize\"] = (10,5)"
   ]
  },
  {
   "cell_type": "code",
   "execution_count": 10,
   "id": "2cffbc73",
   "metadata": {},
   "outputs": [
    {
     "data": {
      "text/plain": [
       "Text(0.5, 1.0, 'Effective Field Goal Percentage')"
      ]
     },
     "execution_count": 10,
     "metadata": {},
     "output_type": "execute_result"
    },
    {
     "data": {
      "image/png": "[encoded data removed]",
      "text/plain": [
       "<Figure size 720x360 with 1 Axes>"
      ]
     },
     "metadata": {
      "needs_background": "light"
     },
     "output_type": "display_data"
    }
   ],
   "source": [
    "plt.bar(x=EFG.keys(), height=EFG.values())\n",
    "plt.title('Effective Field Goal Percentage')"
   ]
  },
  {
   "cell_type": "code",
   "execution_count": 11,
   "id": "7832f52d",
   "metadata": {},
   "outputs": [
    {
     "data": {
      "text/plain": [
       "Text(0.5, 1.0, '3 Point Field Goal Percentage')"
      ]
     },
     "execution_count": 11,
     "metadata": {},
     "output_type": "execute_result"
    },
    {
     "data": {
      "image/png": "[encoded data removed]",
      "text/plain": [
       "<Figure size 720x360 with 1 Axes>"
      ]
     },
     "metadata": {
      "needs_background": "light"
     },
     "output_type": "display_data"
    }
   ],
   "source": [
    "plt.bar(x=FG3P.keys(), height=FG3P.values())\n",
    "plt.title('3 Point Field Goal Percentage')"
   ]
  },
  {
   "cell_type": "code",
   "execution_count": 12,
   "id": "7b475b4a",
   "metadata": {},
   "outputs": [
    {
     "data": {
      "text/plain": [
       "Text(0.5, 1.0, '2 Point Field Goal Percentage')"
      ]
     },
     "execution_count": 12,
     "metadata": {},
     "output_type": "execute_result"
    },
    {
     "data": {
      "image/png": "[encoded data removed]",
      "text/plain": [
       "<Figure size 720x360 with 1 Axes>"
      ]
     },
     "metadata": {
      "needs_background": "light"
     },
     "output_type": "display_data"
    }
   ],
   "source": [
    "plt.bar(x=FG2P.keys(), height=FG2P.values())\n",
    "plt.title('2 Point Field Goal Percentage')"
   ]
  },
  {
   "cell_type": "code",
   "execution_count": 13,
   "id": "eaee9dd0",
   "metadata": {},
   "outputs": [
    {
     "data": {
      "text/plain": [
       "Text(0.5, 1.0, 'Field Goal Percentage')"
      ]
     },
     "execution_count": 13,
     "metadata": {},
     "output_type": "execute_result"
    },
    {
     "data": {
      "image/png": "[encoded data removed]",
      "text/plain": [
       "<Figure size 720x360 with 1 Axes>"
      ]
     },
     "metadata": {
      "needs_background": "light"
     },
     "output_type": "display_data"
    }
   ],
   "source": [
    "plt.bar(x=FG.keys(), height=FG.values())\n",
    "plt.title('Field Goal Percentage')"
   ]
  }
 ],
 "metadata": {
  "kernelspec": {
   "display_name": "Python 3 (ipykernel)",
   "language": "python",
   "name": "python3"
  },
  "language_info": {
   "codemirror_mode": {
    "name": "ipython",
    "version": 3
   },
   "file_extension": ".py",
   "mimetype": "text/x-python",
   "name": "python",
   "nbconvert_exporter": "python",
   "pygments_lexer": "ipython3",
   "version": "3.10.4"
  }
 },
 "nbformat": 4,
 "nbformat_minor": 5
}
